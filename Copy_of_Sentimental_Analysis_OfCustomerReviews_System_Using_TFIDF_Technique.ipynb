{
  "cells": [
    {
      "cell_type": "code",
      "execution_count": 2,
      "metadata": {
        "id": "_I2A51RZkRXH",
        "colab": {
          "base_uri": "https://localhost:8080/",
          "height": 1000,
          "referenced_widgets": [
            "ccce504063994612965509620333710e",
            "b79313567de34d16a3662f57e22ddf96",
            "6818fb80b9de4052b6455ac035ec8f8c",
            "699bcb3007464f5982d2995b3d92ba61",
            "19ea0ca2f10e4904a5d015948c3f372e",
            "83a0c1b68d9a4ebc98138366bc7c6c74",
            "2bb13bde26b24dcabd0be613184af647",
            "c9a9b2df22d0465a8eb1d24b9fa2fd2e",
            "85975a481a594ed8863129d74278e1a1",
            "5ddc950cc70b453aa320c8212cf2ed29",
            "60d332621f54460e9ba54e76a4d2e2fc",
            "78fff3744a1e413dbd7ab35269cf5e2d",
            "d4222cef418c4c0e9817e4953d005dc4",
            "022cf2a7898f46168f2b5602268a4a29",
            "9a2e458bf2be4d2abebb3c84f7cefc76",
            "6b5c678d30a44af28b7eeabc7533ebb5",
            "3a145d659a0240d6baad8e21681e256b",
            "18ffed94f70b415d92f738293d4808f6",
            "dd856d7a473348ce9983c520c0c49907",
            "bd5c8e5418c645c8907da162cd307e97",
            "d04f4ba84fdc48feb927535619681318",
            "101b67e4eb25406db08cc62c76cb3294",
            "11e3a44f58964ef0be52db5661c30f1c",
            "0fe711affbbe49dbb40fbd353d4c48db",
            "e0305334a20e4e149524e3977b8d6b3d",
            "80764d25707e47c48b9c32cce3aea745",
            "228fa16b124b445c81f22891f04efd8f",
            "3f65177f60cd43579126ed2746ef3058",
            "b48d67b9e85c44a795329821b7fd0feb",
            "dfc829fd6b714ce2842e80429e059136"
          ]
        },
        "outputId": "856f78a0-1b55-4eb4-b490-b0fd208874d8"
      },
      "outputs": [
        {
          "output_type": "stream",
          "name": "stdout",
          "text": [
            "Sentimenatl Analysis of Customer Reviews\n"
          ]
        },
        {
          "output_type": "display_data",
          "data": {
            "text/plain": [
              "Button(button_style='danger', description='Start System', style=ButtonStyle())"
            ],
            "application/vnd.jupyter.widget-view+json": {
              "version_major": 2,
              "version_minor": 0,
              "model_id": "ccce504063994612965509620333710e"
            }
          },
          "metadata": {}
        },
        {
          "output_type": "display_data",
          "data": {
            "text/plain": [
              "Dropdown(index=1, options={'Analyze each model': 1, 'Predict rating for new review': 2, 'Compare Models': 3}, …"
            ],
            "application/vnd.jupyter.widget-view+json": {
              "version_major": 2,
              "version_minor": 0,
              "model_id": "699bcb3007464f5982d2995b3d92ba61"
            }
          },
          "metadata": {}
        },
        {
          "output_type": "display_data",
          "data": {
            "text/plain": [
              "Button(button_style='danger', description='Click', style=ButtonStyle())"
            ],
            "application/vnd.jupyter.widget-view+json": {
              "version_major": 2,
              "version_minor": 0,
              "model_id": "19ea0ca2f10e4904a5d015948c3f372e"
            }
          },
          "metadata": {}
        },
        {
          "output_type": "stream",
          "name": "stdout",
          "text": [
            "Customer Review\n"
          ]
        },
        {
          "output_type": "display_data",
          "data": {
            "text/plain": [
              "Text(value='')"
            ],
            "application/vnd.jupyter.widget-view+json": {
              "version_major": 2,
              "version_minor": 0,
              "model_id": "5ddc950cc70b453aa320c8212cf2ed29"
            }
          },
          "metadata": {}
        },
        {
          "output_type": "display_data",
          "data": {
            "text/plain": [
              "Button(button_style='info', description='Find Rating', style=ButtonStyle())"
            ],
            "application/vnd.jupyter.widget-view+json": {
              "version_major": 2,
              "version_minor": 0,
              "model_id": "78fff3744a1e413dbd7ab35269cf5e2d"
            }
          },
          "metadata": {}
        },
        {
          "output_type": "stream",
          "name": "stdout",
          "text": [
            "Rating\n"
          ]
        },
        {
          "output_type": "display_data",
          "data": {
            "text/plain": [
              "Text(value='')"
            ],
            "application/vnd.jupyter.widget-view+json": {
              "version_major": 2,
              "version_minor": 0,
              "model_id": "022cf2a7898f46168f2b5602268a4a29"
            }
          },
          "metadata": {}
        },
        {
          "output_type": "display_data",
          "data": {
            "text/plain": [
              "FloatProgress(value=0.0, description='Calculating')"
            ],
            "application/vnd.jupyter.widget-view+json": {
              "version_major": 2,
              "version_minor": 0,
              "model_id": "dd856d7a473348ce9983c520c0c49907"
            }
          },
          "metadata": {}
        },
        {
          "output_type": "display_data",
          "data": {
            "text/plain": [
              "Dropdown(index=1, options={'Analyze each model': 1, 'Predict rating for new review': 2, 'Compare Models': 3}, …"
            ],
            "application/vnd.jupyter.widget-view+json": {
              "version_major": 2,
              "version_minor": 0,
              "model_id": "699bcb3007464f5982d2995b3d92ba61"
            }
          },
          "metadata": {}
        },
        {
          "output_type": "display_data",
          "data": {
            "text/plain": [
              "Button(button_style='danger', description='Click', style=ButtonStyle())"
            ],
            "application/vnd.jupyter.widget-view+json": {
              "version_major": 2,
              "version_minor": 0,
              "model_id": "19ea0ca2f10e4904a5d015948c3f372e"
            }
          },
          "metadata": {}
        },
        {
          "output_type": "stream",
          "name": "stdout",
          "text": [
            "Classifier Model\n"
          ]
        },
        {
          "output_type": "display_data",
          "data": {
            "text/plain": [
              "Dropdown(options={'Logistic Regression': 1, 'SVM': 2, 'Multinomial Naive Bayes': 3, 'Bernoulli Naive Bayes': 4…"
            ],
            "application/vnd.jupyter.widget-view+json": {
              "version_major": 2,
              "version_minor": 0,
              "model_id": "101b67e4eb25406db08cc62c76cb3294"
            }
          },
          "metadata": {}
        },
        {
          "output_type": "display_data",
          "data": {
            "text/plain": [
              "RadioButtons(options=('Accuracy', 'ROC Curve', 'Precision,Recall and F-Measure'), value='Accuracy')"
            ],
            "application/vnd.jupyter.widget-view+json": {
              "version_major": 2,
              "version_minor": 0,
              "model_id": "e0305334a20e4e149524e3977b8d6b3d"
            }
          },
          "metadata": {}
        },
        {
          "output_type": "display_data",
          "data": {
            "text/plain": [
              "Button(button_style='info', description='Submit', style=ButtonStyle())"
            ],
            "application/vnd.jupyter.widget-view+json": {
              "version_major": 2,
              "version_minor": 0,
              "model_id": "80764d25707e47c48b9c32cce3aea745"
            }
          },
          "metadata": {}
        },
        {
          "output_type": "stream",
          "name": "stdout",
          "text": [
            "Classifier Model\n"
          ]
        },
        {
          "output_type": "display_data",
          "data": {
            "text/plain": [
              "Dropdown(options={'Logistic Regression': 1, 'SVM': 2, 'Multinomial Naive Bayes': 3, 'Bernoulli Naive Bayes': 4…"
            ],
            "application/vnd.jupyter.widget-view+json": {
              "version_major": 2,
              "version_minor": 0,
              "model_id": "101b67e4eb25406db08cc62c76cb3294"
            }
          },
          "metadata": {}
        },
        {
          "output_type": "display_data",
          "data": {
            "text/plain": [
              "RadioButtons(options=('Accuracy', 'ROC Curve', 'Precision,Recall and F-Measure'), value='Accuracy')"
            ],
            "application/vnd.jupyter.widget-view+json": {
              "version_major": 2,
              "version_minor": 0,
              "model_id": "e0305334a20e4e149524e3977b8d6b3d"
            }
          },
          "metadata": {}
        },
        {
          "output_type": "display_data",
          "data": {
            "text/plain": [
              "Button(button_style='info', description='Submit', style=ButtonStyle())"
            ],
            "application/vnd.jupyter.widget-view+json": {
              "version_major": 2,
              "version_minor": 0,
              "model_id": "80764d25707e47c48b9c32cce3aea745"
            }
          },
          "metadata": {}
        },
        {
          "output_type": "stream",
          "name": "stdout",
          "text": [
            "\n",
            "\n",
            "kNN Classifier\n",
            "Please be patient. This may take some time.\n"
          ]
        },
        {
          "output_type": "display_data",
          "data": {
            "text/plain": [
              "<Figure size 432x288 with 1 Axes>"
            ],
            "image/png": "[encoded data removed]"
          },
          "metadata": {
            "image/png": {
              "width": 385,
              "height": 277
            },
            "needs_background": "light"
          }
        },
        {
          "output_type": "stream",
          "name": "stdout",
          "text": [
            "\n",
            "\n",
            "kNN Classifier\n",
            "Please be patient. This may take some time.\n"
          ]
        },
        {
          "output_type": "display_data",
          "data": {
            "text/plain": [
              "<Figure size 432x288 with 1 Axes>"
            ],
            "image/png": "[encoded data removed]"
          },
          "metadata": {
            "image/png": {
              "width": 385,
              "height": 277
            },
            "needs_background": "light"
          }
        },
        {
          "output_type": "display_data",
          "data": {
            "text/plain": [
              "Dropdown(options={'Analyze each model': 1, 'Predict rating for new review': 2, 'Compare Models': 3}, value=1)"
            ],
            "application/vnd.jupyter.widget-view+json": {
              "version_major": 2,
              "version_minor": 0,
              "model_id": "699bcb3007464f5982d2995b3d92ba61"
            }
          },
          "metadata": {}
        },
        {
          "output_type": "display_data",
          "data": {
            "text/plain": [
              "Button(button_style='danger', description='Click', style=ButtonStyle())"
            ],
            "application/vnd.jupyter.widget-view+json": {
              "version_major": 2,
              "version_minor": 0,
              "model_id": "19ea0ca2f10e4904a5d015948c3f372e"
            }
          },
          "metadata": {}
        },
        {
          "output_type": "stream",
          "name": "stdout",
          "text": [
            "Customer Review\n"
          ]
        },
        {
          "output_type": "display_data",
          "data": {
            "text/plain": [
              "Text(value='good')"
            ],
            "application/vnd.jupyter.widget-view+json": {
              "version_major": 2,
              "version_minor": 0,
              "model_id": "5ddc950cc70b453aa320c8212cf2ed29"
            }
          },
          "metadata": {}
        },
        {
          "output_type": "display_data",
          "data": {
            "text/plain": [
              "Button(button_style='info', description='Find Rating', style=ButtonStyle())"
            ],
            "application/vnd.jupyter.widget-view+json": {
              "version_major": 2,
              "version_minor": 0,
              "model_id": "78fff3744a1e413dbd7ab35269cf5e2d"
            }
          },
          "metadata": {}
        },
        {
          "output_type": "stream",
          "name": "stdout",
          "text": [
            "Rating\n"
          ]
        },
        {
          "output_type": "display_data",
          "data": {
            "text/plain": [
              "Text(value='Good')"
            ],
            "application/vnd.jupyter.widget-view+json": {
              "version_major": 2,
              "version_minor": 0,
              "model_id": "022cf2a7898f46168f2b5602268a4a29"
            }
          },
          "metadata": {}
        },
        {
          "output_type": "stream",
          "name": "stdout",
          "text": [
            "Customer Review\n"
          ]
        },
        {
          "output_type": "display_data",
          "data": {
            "text/plain": [
              "Text(value='good')"
            ],
            "application/vnd.jupyter.widget-view+json": {
              "version_major": 2,
              "version_minor": 0,
              "model_id": "5ddc950cc70b453aa320c8212cf2ed29"
            }
          },
          "metadata": {}
        },
        {
          "output_type": "display_data",
          "data": {
            "text/plain": [
              "Button(button_style='info', description='Find Rating', style=ButtonStyle())"
            ],
            "application/vnd.jupyter.widget-view+json": {
              "version_major": 2,
              "version_minor": 0,
              "model_id": "78fff3744a1e413dbd7ab35269cf5e2d"
            }
          },
          "metadata": {}
        },
        {
          "output_type": "stream",
          "name": "stdout",
          "text": [
            "Rating\n"
          ]
        },
        {
          "output_type": "display_data",
          "data": {
            "text/plain": [
              "Text(value='Good')"
            ],
            "application/vnd.jupyter.widget-view+json": {
              "version_major": 2,
              "version_minor": 0,
              "model_id": "022cf2a7898f46168f2b5602268a4a29"
            }
          },
          "metadata": {}
        },
        {
          "output_type": "stream",
          "name": "stdout",
          "text": [
            "Customer Review\n"
          ]
        },
        {
          "output_type": "display_data",
          "data": {
            "text/plain": [
              "Text(value='good')"
            ],
            "application/vnd.jupyter.widget-view+json": {
              "version_major": 2,
              "version_minor": 0,
              "model_id": "5ddc950cc70b453aa320c8212cf2ed29"
            }
          },
          "metadata": {}
        },
        {
          "output_type": "display_data",
          "data": {
            "text/plain": [
              "Button(button_style='info', description='Find Rating', style=ButtonStyle())"
            ],
            "application/vnd.jupyter.widget-view+json": {
              "version_major": 2,
              "version_minor": 0,
              "model_id": "78fff3744a1e413dbd7ab35269cf5e2d"
            }
          },
          "metadata": {}
        },
        {
          "output_type": "stream",
          "name": "stdout",
          "text": [
            "Rating\n"
          ]
        },
        {
          "output_type": "display_data",
          "data": {
            "text/plain": [
              "Text(value='Good')"
            ],
            "application/vnd.jupyter.widget-view+json": {
              "version_major": 2,
              "version_minor": 0,
              "model_id": "022cf2a7898f46168f2b5602268a4a29"
            }
          },
          "metadata": {}
        },
        {
          "output_type": "display_data",
          "data": {
            "text/plain": [
              "FloatProgress(value=100.0, description='Calculating')"
            ],
            "application/vnd.jupyter.widget-view+json": {
              "version_major": 2,
              "version_minor": 0,
              "model_id": "dd856d7a473348ce9983c520c0c49907"
            }
          },
          "metadata": {}
        },
        {
          "output_type": "display_data",
          "data": {
            "text/plain": [
              "FloatProgress(value=100.0, description='Calculating')"
            ],
            "application/vnd.jupyter.widget-view+json": {
              "version_major": 2,
              "version_minor": 0,
              "model_id": "dd856d7a473348ce9983c520c0c49907"
            }
          },
          "metadata": {}
        },
        {
          "output_type": "display_data",
          "data": {
            "text/plain": [
              "FloatProgress(value=100.0, description='Calculating')"
            ],
            "application/vnd.jupyter.widget-view+json": {
              "version_major": 2,
              "version_minor": 0,
              "model_id": "dd856d7a473348ce9983c520c0c49907"
            }
          },
          "metadata": {}
        },
        {
          "output_type": "display_data",
          "data": {
            "text/plain": [
              "FloatProgress(value=100.0, description='Calculating')"
            ],
            "application/vnd.jupyter.widget-view+json": {
              "version_major": 2,
              "version_minor": 0,
              "model_id": "dd856d7a473348ce9983c520c0c49907"
            }
          },
          "metadata": {}
        },
        {
          "output_type": "stream",
          "name": "stdout",
          "text": [
            "\n",
            "\n",
            "Please wait. This may take a few minutes\n",
            "\n",
            "Analyzing Logistic Regression\n",
            "\n",
            "Analyzing Multinomial NB\n",
            "\n",
            "Bernoulli NB\n",
            "\n",
            "Analyzing Decision Tree\n",
            "\n",
            "Analyzing Ensemble Classifier\n"
          ]
        }
      ],
      "source": [
        "#importing libraries\n",
        "\n",
        "import pandas as pd\n",
        "import numpy as np\n",
        "import matplotlib.pyplot as plt\n",
        "import seaborn as sns\n",
        "%matplotlib inline\n",
        "%config InlineBackend.figure_format = 'retina'\n",
        "import warnings\n",
        "warnings.filterwarnings('ignore')\n",
        "from ipywidgets import *\n",
        "from IPython.display import display\n",
        "from ipywidgets import FloatProgress  \n",
        "import time\n",
        "from IPython.html import widgets\n",
        "from sklearn.model_selection import train_test_split\n",
        "from sklearn.metrics import roc_curve, auc\n",
        "from sklearn.feature_extraction.text import CountVectorizer,TfidfVectorizer\n",
        "from sklearn.metrics import classification_report,accuracy_score,confusion_matrix\n",
        "from sklearn.svm import SVC\n",
        "from sklearn.naive_bayes import MultinomialNB\n",
        "from sklearn.naive_bayes import BernoulliNB\n",
        "from sklearn.neighbors import KNeighborsClassifier\n",
        "from sklearn.ensemble import RandomForestClassifier\n",
        "from sklearn import tree\n",
        "from sklearn.linear_model import LogisticRegression\n",
        "\n",
        "#Data cleaning and preprocessing\n",
        "\n",
        "#from google.colab import files\n",
        "#uploaded = files.upload()\n",
        "#import io\n",
        "#amazon_data = pd.read_csv(io.BytesIO(uploaded['Amazon_Unlocked_Mobile.csv']))\n",
        "\n",
        "amazon_data = pd.read_csv(\"Amazon_Unlocked_Mobile.csv\")\n",
        "amazon_data = amazon_data.dropna(axis = 0)\n",
        "amazon_data=amazon_data[[\"Reviews\",\"Rating\"]]\n",
        "amazon_data_pos=amazon_data[amazon_data[\"Rating\"].isin([4,5])]\n",
        "amazon_data_neg=amazon_data[amazon_data[\"Rating\"].isin([1,2])]\n",
        "amazon_data_filtered=pd.concat([amazon_data_pos[:20000],amazon_data_neg[:20000]])\n",
        "amazon_data_filtered[\"r\"]=1\n",
        "amazon_data_filtered[\"r\"][amazon_data_filtered[\"Rating\"].isin([1,2])]= 0\n",
        "\n",
        "#Splitting Train and Test Data \n",
        "\n",
        "X_train_data,x_test_data,Y_train_data,y_test_data=train_test_split(amazon_data_filtered[\"Reviews\"],amazon_data_filtered[\"r\"],test_size=0.2)\n",
        "\n",
        "#Text Transformation using TFIDF\n",
        "\n",
        "tfidf_vector = TfidfVectorizer(stop_words=\"english\")\n",
        "tfidf_vector.fit(X_train_data)\n",
        "X_train_data_new=tfidf_vector.transform(X_train_data)\n",
        "x_test_data_new=tfidf_vector.transform(x_test_data)\n",
        "\n",
        "predictions = dict()\n",
        "\n",
        "\n",
        "#Widgets\n",
        "\n",
        "start_button=Button(description=\"Start System\",button_style='danger') \n",
        "drop_down_choice=widgets.Dropdown(options={'Analyze each model':1,'Predict rating for new review':2,'Compare Models':3},value=2)\n",
        "choose_button=Button(description=\"Click\",button_style='danger')    \n",
        "drop_down=widgets.Dropdown(options={'Logistic Regression': 1, 'SVM': 2, 'Multinomial Naive Bayes': 3, 'Bernoulli Naive Bayes':4,'k-NN':5, 'Ensemble':6,'Decision Tree':7},value=1)\n",
        "rad_button=widgets.RadioButtons(options=['Accuracy', 'ROC Curve', 'Precision,Recall and F-Measure',],value='Accuracy',disabled=False)\n",
        "button= widgets.Button(description=\"Submit\",button_style='info')\n",
        "Inp_text = widgets.Text(description=\"\", width=20000)   \n",
        "button_rating= widgets.Button(description=\"Find Rating\",button_style='info')\n",
        "fp = FloatProgress(min=0,max=100,description=\"Calculating\")  \n",
        "Out_text=widgets.Text()\n",
        "\n",
        "#1. SVM Classifier\n",
        "\n",
        "def svm():   \n",
        "    print(\"\\n\\nSVM Classifier\")\n",
        "    print(\"Please be patient. This may take some time.\")\n",
        "    svm_model = SVC()\n",
        "    \n",
        "    #Train Model\n",
        "    svm_model.fit(X_train_data_new,Y_train_data) \n",
        "    \n",
        "    #Test Model\n",
        "    predictions['SVM']=svm_model.predict(x_test_data_new)   \n",
        "    \n",
        "    #Calculating Model Accuracy\n",
        "    if rad_button.value=='Accuracy':\n",
        "        print(\"Accuracy = \"+str(accuracy_score(y_test_data,predictions['SVM'])))\n",
        "        \n",
        "    #Generating ROC Curve    \n",
        "    if rad_button.value=='ROC Curve':\n",
        "        false_positive, true_positive,_= roc_curve(y_test_data,predictions['SVM'])\n",
        "        plt.title('Receiver Operating Characteristic')\n",
        "        plt.plot(false_positive, true_positive)\n",
        "        plt.ylabel('True Positive Rate')\n",
        "        plt.xlabel('False Positive  Rate')\n",
        "        plt.show()\n",
        "        \n",
        "    #Calculating Precision, Recall and F-Measure\n",
        "    if rad_button.value=='Precision,Recall and F-Measure':\n",
        "        print(classification_report(y_test_data, predictions['SVM'], target_names = [\"Good\", \"Bad\"]))\n",
        "        \n",
        "        \n",
        "        \n",
        "#2. Multinomial Naive Bayes Classifier\n",
        "        \n",
        "def multinomial():\n",
        "    print(\"\\n\\nMultinomial Naive Bayes Classifier\")\n",
        "    print(\"Please be patient. This may take some time.\")\n",
        "    mul_model = MultinomialNB()\n",
        "    \n",
        "    #Train Model\n",
        "    mul_model.fit(X_train_data_new,Y_train_data)\n",
        "    \n",
        "    #Test Model\n",
        "    predictions[\"Multinomial\"] = mul_model.predict(x_test_data_new)  \n",
        "    \n",
        "    #Calculating Model Accuracy\n",
        "    if rad_button.value=='Accuracy':\n",
        "        print(\"Accuracy = \"+str(accuracy_score(y_test_data,predictions[\"Multinomial\"])))\n",
        "        \n",
        "    #Generating ROC Curve\n",
        "    if rad_button.value=='ROC Curve':\n",
        "        false_positive, true_positive,_= roc_curve(y_test_data,predictions['Multinomial'])\n",
        "        plt.title('Receiver Operating Characteristic')\n",
        "        plt.plot(false_positive, true_positive)\n",
        "        plt.ylabel('True Positive Rate')\n",
        "        plt.xlabel('False Positive  Rate')\n",
        "        plt.show()\n",
        "        \n",
        "    #Calculating Precision, Recall and F-Measure\n",
        "    if rad_button.value=='Precision,Recall and F-Measure':\n",
        "        print(classification_report(y_test_data, predictions['Multinomial'], target_names = [\"Good\", \"Bad\"]))\n",
        "        \n",
        "        \n",
        "        \n",
        "#3. Bernoulli Naive Bayes Classifier\n",
        "        \n",
        "def bernoulli():   \n",
        "    print(\"\\n\\nBernoulli Naive Bayes Classifier\")\n",
        "    print(\"Please be patient. This may take some time.\")\n",
        "    ber_model = BernoulliNB()\n",
        "    \n",
        "    #Train Model\n",
        "    ber_model.fit(X_train_data_new,Y_train_data)\n",
        "    \n",
        "    #Test Model\n",
        "    predictions[\"BernoulliNB\"]=ber_model.predict(x_test_data_new)  \n",
        "    \n",
        "    #Calculating Model Accuracy\n",
        "    if rad_button.value=='Accuracy':\n",
        "        print(\"Accuracy = \"+str(accuracy_score(y_test_data,predictions[\"BernoulliNB\"])))\n",
        "        \n",
        "    #Generating ROC Curve\n",
        "    if rad_button.value=='ROC Curve':\n",
        "        false_positive, true_positive,_= roc_curve(y_test_data,predictions[\"BernoulliNB\"])\n",
        "        plt.title('Receiver Operating Characteristic')\n",
        "        plt.plot(false_positive, true_positive)\n",
        "        plt.ylabel('True Positive Rate')\n",
        "        plt.xlabel('False Positive  Rate')\n",
        "        plt.show()\n",
        "        \n",
        "    #Calculating Precision, Recall and F-Measure\n",
        "    if rad_button.value=='Precision,Recall and F-Measure':\n",
        "        print(classification_report(y_test_data, predictions[\"BernoulliNB\"], target_names = [\"Good\", \"Bad\"]))\n",
        "        \n",
        "        \n",
        "        \n",
        "#4. k-NN Classifier\n",
        "        \n",
        "def knn():   \n",
        "    print(\"\\n\\nkNN Classifier\")\n",
        "    print(\"Please be patient. This may take some time.\")\n",
        "    from sklearn.neighbors import KNeighborsClassifier\n",
        "    knn_model = KNeighborsClassifier(n_neighbors=1)\n",
        "    \n",
        "    #Train Model\n",
        "    knn_model.fit(X_train_data_new,Y_train_data)\n",
        "    \n",
        "    #Test Model\n",
        "    predictions[\"knn\"] = knn_model.predict(x_test_data_new)\n",
        "    \n",
        "    #Calculating Model Accuracy\n",
        "    if rad_button.value=='Accuracy':\n",
        "        print(\"Accuracy = \"+str(accuracy_score(y_test_data,predictions[\"knn\"])))\n",
        "        \n",
        "    #Generating ROC Curve\n",
        "    if rad_button.value=='ROC Curve':\n",
        "        false_positive, true_positive,_= roc_curve(y_test_data,predictions[\"knn\"])\n",
        "        plt.title('Receiver Operating Characteristic')\n",
        "        plt.plot(false_positive, true_positive)\n",
        "        plt.ylabel('True Positive Rate')\n",
        "        plt.xlabel('False Positive  Rate')\n",
        "        plt.show()\n",
        "        \n",
        "    #Calculating Precision, Recall and F-Measure\n",
        "    if rad_button.value=='Precision,Recall and F-Measure':\n",
        "        print(classification_report(y_test_data, predictions[\"knn\"], target_names = [\"Good\", \"Bad\"]))\n",
        "        \n",
        "        \n",
        "        \n",
        "#5. Ensemble Classifier\n",
        "        \n",
        "def ensmble():\n",
        "    print(\"\\n\\nEnsemble Classifier\")\n",
        "    print(\"Please be patient. This may take some time.\")\n",
        "    ess_model = RandomForestClassifier()\n",
        "    \n",
        "    #Train Model\n",
        "    ess_model.fit(X_train_data_new,Y_train_data)\n",
        "    \n",
        "    #Test Model\n",
        "    predictions[\"EssembleClasification\"] = ess_model.predict(x_test_data_new)\n",
        "    \n",
        "    #Calculating Model Accuracy\n",
        "    if rad_button.value=='Accuracy':\n",
        "        print(\"Accuracy = \"+str(accuracy_score(y_test_data,predictions[\"EssembleClasification\"])))\n",
        "        \n",
        "    #Generating ROC Curve\n",
        "    if rad_button.value=='ROC Curve':\n",
        "        false_positive, true_positive,_= roc_curve(y_test_data,predictions[\"EssembleClasification\"])\n",
        "        plt.title('Receiver Operating Characteristic')\n",
        "        plt.plot(false_positive, true_positive)\n",
        "        plt.ylabel('True Positive Rate')\n",
        "        plt.xlabel('False Positive  Rate')\n",
        "        plt.show()\n",
        "        \n",
        "    #Calculating Precision, Recall and F-Measure\n",
        "    if rad_button.value=='Precision,Recall and F-Measure':\n",
        "        print(classification_report(y_test_data, predictions[\"EssembleClasification\"], target_names = [\"Good\", \"Bad\"]))\n",
        "        \n",
        "    \n",
        "        \n",
        "#6. Decision Tree Classifier     \n",
        "               \n",
        "def dtree():    \n",
        "    print(\"\\n\\nDecision Tree Classifier\")\n",
        "    print(\"Please be patient. This may take some time.\")\n",
        "    tree_model = tree.DecisionTreeClassifier()\n",
        "    \n",
        "    #Train Model\n",
        "    tree_model.fit(X_train_data_new,Y_train_data)\n",
        "    \n",
        "    #Test Model\n",
        "    predictions[\"DecisionTree\"] = tree_model.predict(x_test_data_new)\n",
        "    \n",
        "    #Calculating Model Accuracy\n",
        "    if rad_button.value=='Accuracy':\n",
        "        print(\"Accuracy = \"+str(accuracy_score(y_test_data,predictions[\"DecisionTree\"])))\n",
        "        \n",
        "    #Generating ROC Curve\n",
        "    if rad_button.value=='ROC Curve':\n",
        "        false_positive, true_positive,_= roc_curve(y_test_data,predictions[\"DecisionTree\"])\n",
        "        plt.title('Receiver Operating Characteristic')\n",
        "        plt.plot(false_positive, true_positive)\n",
        "        plt.ylabel('True Positive Rate')\n",
        "        plt.xlabel('False Positive  Rate')\n",
        "        plt.show()\n",
        "        \n",
        "    #Calculating Precision, Recall and F-Measure\n",
        "    if rad_button.value=='Precision,Recall and F-Measure':\n",
        "        print(classification_report(y_test_data, predictions[\"DecisionTree\"], target_names = [\"Good\", \"Bad\"]))\n",
        "        \n",
        "        \n",
        "        \n",
        "#7. Logistic Regression Classifier\n",
        "        \n",
        "def log_reg():\n",
        "    print(\"\\n\\nLogistic Regression Classifier\")\n",
        "    print(\"Please be patient. This may take some time.\")\n",
        "    lr_model = LogisticRegression()\n",
        "    \n",
        "    #Train Model\n",
        "    lr_model.fit(X_train_data_new,Y_train_data)\n",
        "    \n",
        "    #Test Model\n",
        "    predictions['LogisticRegression'] = lr_model.predict(x_test_data_new)\n",
        "    \n",
        "    #Calculating Model Accuracy\n",
        "    if rad_button.value=='Accuracy':\n",
        "        print(\"Accuracy = \"+str(accuracy_score(y_test_data,predictions['LogisticRegression'])))\n",
        "        \n",
        "    #Generating ROC Curve    \n",
        "    if rad_button.value=='ROC Curve':\n",
        "        false_positive, true_positive,_= roc_curve(y_test_data,predictions['LogisticRegression'])\n",
        "        plt.title('Receiver Operating Characteristic')\n",
        "        plt.plot(false_positive, true_positive)\n",
        "        plt.ylabel('True Positive Rate')\n",
        "        plt.xlabel('False Positive  Rate')\n",
        "        plt.show()\n",
        "        \n",
        "    #Calculating Precision, Recall and F-Measure\n",
        "    if rad_button.value=='Precision,Recall and F-Measure':\n",
        "        print(classification_report(y_test_data, predictions['LogisticRegression'], target_names = [\"Good\", \"Bad\"]))\n",
        "        \n",
        "def compare_models():\n",
        "    print(\"\\n\\nPlease wait. This may take a few minutes\")\n",
        "    print(\"\\nAnalyzing Logistic Regression\")\n",
        "    lr_model = LogisticRegression()\n",
        "    lr_model.fit(X_train_data_new,Y_train_data)\n",
        "    predictions['LogisticRegression'] = lr_model.predict(x_test_data_new)\n",
        "    print(\"\\nAnalyzing Multinomial NB\")\n",
        "    mul_model = MultinomialNB()\n",
        "    mul_model.fit(X_train_data_new,Y_train_data)\n",
        "    predictions[\"Multinomial\"] = mul_model.predict(x_test_data_new)  \n",
        "    print(\"\\nBernoulli NB\")\n",
        "    ber_model = BernoulliNB()\n",
        "    ber_model.fit(X_train_data_new,Y_train_data)\n",
        "    predictions[\"\\nBernoulliNB\"]=ber_model.predict(x_test_data_new)\n",
        "    print(\"\\nAnalyzing Decision Tree\")\n",
        "    tree_model = tree.DecisionTreeClassifier()\n",
        "    tree_model.fit(X_train_data_new,Y_train_data)\n",
        "    predictions[\"DecisionTree\"] = tree_model.predict(x_test_data_new)\n",
        "    print(\"\\nAnalyzing Ensemble Classifier\")\n",
        "    ess_model = RandomForestClassifier()\n",
        "    ess_model.fit(X_train_data_new,Y_train_data)\n",
        "    predictions[\"EssembleClasification\"] = ess_model.predict(x_test_data_new)\n",
        "    print(\"\\nAnalyzing SVM\")\n",
        "    svm_model = SVC()\n",
        "    svm_model.fit(X_train_data_new,Y_train_data) \n",
        "    predictions['SVM']=svm_model.predict(x_test_data_new)\n",
        "    print(\"\\nAnalyzing k-NN\")\n",
        "    knn_model = KNeighborsClassifier(n_neighbors=1)\n",
        "    knn_model.fit(X_train_data_new,Y_train_data)\n",
        "    predictions[\"knn\"] = knn_model.predict(x_test_data_new)\n",
        "    print(\"\\n\\nCalculating Accuracy of each model.\\n\\n\")\n",
        "    #Model Accuracy Table\n",
        "    print_results = {}\n",
        "    for k,v in predictions.items():\n",
        "        print_results[k] = accuracy_score(y_test_data,v)\n",
        "    result_table=pd.DataFrame(list(print_results.items()), columns=[\"Model\",\"Accuracy\"])\n",
        "    print(result_table)\n",
        "    #Bar chart comparing accuracies of models\n",
        "    plt.figure(figsize= (10,8))\n",
        "    sns.barplot(x = \"Model\", y = \"Accuracy\", data = result_table)\n",
        "    plt.title(\"Model accuracy\")\n",
        "    plt.xticks(rotation = 90)\n",
        "    \n",
        "    \n",
        "  \n",
        "        \n",
        "\n",
        "#System GUI Code       \n",
        "\n",
        "def analyze_each():\n",
        "    print(\"Classifier Model\")    \n",
        "    display(drop_down)\n",
        "    display(rad_button)\n",
        "    display(button)\n",
        "\n",
        "    def handle_submit(sender):\n",
        "        if drop_down.value==1:\n",
        "            log_reg()\n",
        "        if drop_down.value==2:\n",
        "            svm()\n",
        "        if drop_down.value==3:\n",
        "            multinomial()\n",
        "        if drop_down.value==4:\n",
        "            bernoulli()\n",
        "        if drop_down.value==5:\n",
        "            knn()\n",
        "        if drop_down.value==6:\n",
        "            ensmble()\n",
        "        if drop_down.value==7:\n",
        "            dtree()\n",
        "    button.on_click(handle_submit)\n",
        "    \n",
        "    \n",
        "    \n",
        "def predict_rating():\n",
        "    print(\"Customer Review\")\n",
        "    \n",
        "    display(Inp_text)\n",
        "    \n",
        "    display(button_rating)\n",
        "    print (\"Rating\")\n",
        "   \n",
        "    display(Out_text)\n",
        "    def handle_submit(sender):\n",
        "        display(fp)\n",
        "        #Predicting Rating of the Input Review\n",
        "        ess_model = RandomForestClassifier()\n",
        "        ess_model.fit(X_train_data_new,Y_train_data)                             \n",
        "        review=Inp_text.value\n",
        "        new_test_transform = tfidf_vector.transform([review])        \n",
        "\n",
        "        for i in range(100):  \n",
        "            fp.value += 1\n",
        "            time.sleep(0.1)\n",
        "        if ess_model.predict(new_test_transform):\n",
        "            Out_text.value=\"Good\"\n",
        "        else :\n",
        "            Out_text.value=\"Bad\"\n",
        "    Inp_text.on_submit(handle_submit)\n",
        "    button_rating.on_click(handle_submit)\n",
        "    \n",
        "    \n",
        "    \n",
        "\n",
        "def actions():\n",
        "    \n",
        "    display(drop_down_choice)    \n",
        "    display(choose_button)\n",
        "    def handle_choice(sender):\n",
        "        if drop_down_choice.value==1:\n",
        "            analyze_each()\n",
        "        if drop_down_choice.value==2:\n",
        "            predict_rating()\n",
        "        if drop_down_choice.value==3:\n",
        "            compare_models()\n",
        "    choose_button.on_click(handle_choice)\n",
        "    \n",
        "\n",
        "\n",
        "print(\"Sentimenatl Analysis of Customer Reviews\")\n",
        "display(start_button)\n",
        "def loading(sender):\n",
        "    actions()\n",
        "start_button.on_click(loading)\n",
        "    "
      ]
    },
    {
      "cell_type": "code",
      "source": [
        "from google.colab import drive\n",
        "drive.mount('/content/drive')"
      ],
      "metadata": {
        "id": "M4AfDtRU8DgE"
      },
      "execution_count": null,
      "outputs": []
    },
    {
      "cell_type": "code",
      "execution_count": null,
      "metadata": {
        "collapsed": true,
        "id": "0mxIdlH5kRXP"
      },
      "outputs": [],
      "source": [
        ""
      ]
    },
    {
      "cell_type": "code",
      "execution_count": null,
      "metadata": {
        "collapsed": true,
        "id": "53nnSP2PkRXP"
      },
      "outputs": [],
      "source": [
        ""
      ]
    }
  ],
  "metadata": {
    "kernelspec": {
      "display_name": "Python 3",
      "language": "python",
      "name": "python3"
    },
    "language_info": {
      "codemirror_mode": {
        "name": "ipython",
        "version": 3
      },
      "file_extension": ".py",
      "mimetype": "text/x-python",
      "name": "python",
      "nbconvert_exporter": "python",
      "pygments_lexer": "ipython3",
      "version": "3.6.2"
    },
    "colab": {
      "name": "Copy of Sentimental_Analysis_OfCustomerReviews_System_Using_TFIDF_Technique.ipynb",
      "provenance": [],
      "history_visible": true,
      "collapsed_sections": []
    },
    "widgets": {
      "application/vnd.jupyter.widget-state+json": {
        "ccce504063994612965509620333710e": {
          "model_module": "@jupyter-widgets/controls",
          "model_name": "ButtonModel",
          "model_module_version": "1.5.0",
          "state": {
            "_dom_classes": [],
            "_model_module": "@jupyter-widgets/controls",
            "_model_module_version": "1.5.0",
            "_model_name": "ButtonModel",
            "_view_count": null,
            "_view_module": "@jupyter-widgets/controls",
            "_view_module_version": "1.5.0",
            "_view_name": "ButtonView",
            "button_style": "danger",
            "description": "Start System",
            "disabled": false,
            "icon": "",
            "layout": "IPY_MODEL_b79313567de34d16a3662f57e22ddf96",
            "style": "IPY_MODEL_6818fb80b9de4052b6455ac035ec8f8c",
            "tooltip": ""
          }
        },
        "b79313567de34d16a3662f57e22ddf96": {
          "model_module": "@jupyter-widgets/base",
          "model_name": "LayoutModel",
          "model_module_version": "1.2.0",
          "state": {
            "_model_module": "@jupyter-widgets/base",
            "_model_module_version": "1.2.0",
            "_model_name": "LayoutModel",
            "_view_count": null,
            "_view_module": "@jupyter-widgets/base",
            "_view_module_version": "1.2.0",
            "_view_name": "LayoutView",
            "align_content": null,
            "align_items": null,
            "align_self": null,
            "border": null,
            "bottom": null,
            "display": null,
            "flex": null,
            "flex_flow": null,
            "grid_area": null,
            "grid_auto_columns": null,
            "grid_auto_flow": null,
            "grid_auto_rows": null,
            "grid_column": null,
            "grid_gap": null,
            "grid_row": null,
            "grid_template_areas": null,
            "grid_template_columns": null,
            "grid_template_rows": null,
            "height": null,
            "justify_content": null,
            "justify_items": null,
            "left": null,
            "margin": null,
            "max_height": null,
            "max_width": null,
            "min_height": null,
            "min_width": null,
            "object_fit": null,
            "object_position": null,
            "order": null,
            "overflow": null,
            "overflow_x": null,
            "overflow_y": null,
            "padding": null,
            "right": null,
            "top": null,
            "visibility": null,
            "width": null
          }
        },
        "6818fb80b9de4052b6455ac035ec8f8c": {
          "model_module": "@jupyter-widgets/controls",
          "model_name": "ButtonStyleModel",
          "model_module_version": "1.5.0",
          "state": {
            "_model_module": "@jupyter-widgets/controls",
            "_model_module_version": "1.5.0",
            "_model_name": "ButtonStyleModel",
            "_view_count": null,
            "_view_module": "@jupyter-widgets/base",
            "_view_module_version": "1.2.0",
            "_view_name": "StyleView",
            "button_color": null,
            "font_weight": ""
          }
        },
        "699bcb3007464f5982d2995b3d92ba61": {
          "model_module": "@jupyter-widgets/controls",
          "model_name": "DropdownModel",
          "model_module_version": "1.5.0",
          "state": {
            "_dom_classes": [],
            "_model_module": "@jupyter-widgets/controls",
            "_model_module_version": "1.5.0",
            "_model_name": "DropdownModel",
            "_options_labels": [
              "Analyze each model",
              "Predict rating for new review",
              "Compare Models"
            ],
            "_view_count": null,
            "_view_module": "@jupyter-widgets/controls",
            "_view_module_version": "1.5.0",
            "_view_name": "DropdownView",
            "description": "",
            "description_tooltip": null,
            "disabled": false,
            "index": 2,
            "layout": "IPY_MODEL_83a0c1b68d9a4ebc98138366bc7c6c74",
            "style": "IPY_MODEL_2bb13bde26b24dcabd0be613184af647"
          }
        },
        "19ea0ca2f10e4904a5d015948c3f372e": {
          "model_module": "@jupyter-widgets/controls",
          "model_name": "ButtonModel",
          "model_module_version": "1.5.0",
          "state": {
            "_dom_classes": [],
            "_model_module": "@jupyter-widgets/controls",
            "_model_module_version": "1.5.0",
            "_model_name": "ButtonModel",
            "_view_count": null,
            "_view_module": "@jupyter-widgets/controls",
            "_view_module_version": "1.5.0",
            "_view_name": "ButtonView",
            "button_style": "danger",
            "description": "Click",
            "disabled": false,
            "icon": "",
            "layout": "IPY_MODEL_c9a9b2df22d0465a8eb1d24b9fa2fd2e",
            "style": "IPY_MODEL_85975a481a594ed8863129d74278e1a1",
            "tooltip": ""
          }
        },
        "83a0c1b68d9a4ebc98138366bc7c6c74": {
          "model_module": "@jupyter-widgets/base",
          "model_name": "LayoutModel",
          "model_module_version": "1.2.0",
          "state": {
            "_model_module": "@jupyter-widgets/base",
            "_model_module_version": "1.2.0",
            "_model_name": "LayoutModel",
            "_view_count": null,
            "_view_module": "@jupyter-widgets/base",
            "_view_module_version": "1.2.0",
            "_view_name": "LayoutView",
            "align_content": null,
            "align_items": null,
            "align_self": null,
            "border": null,
            "bottom": null,
            "display": null,
            "flex": null,
            "flex_flow": null,
            "grid_area": null,
            "grid_auto_columns": null,
            "grid_auto_flow": null,
            "grid_auto_rows": null,
            "grid_column": null,
            "grid_gap": null,
            "grid_row": null,
            "grid_template_areas": null,
            "grid_template_columns": null,
            "grid_template_rows": null,
            "height": null,
            "justify_content": null,
            "justify_items": null,
            "left": null,
            "margin": null,
            "max_height": null,
            "max_width": null,
            "min_height": null,
            "min_width": null,
            "object_fit": null,
            "object_position": null,
            "order": null,
            "overflow": null,
            "overflow_x": null,
            "overflow_y": null,
            "padding": null,
            "right": null,
            "top": null,
            "visibility": null,
            "width": null
          }
        },
        "2bb13bde26b24dcabd0be613184af647": {
          "model_module": "@jupyter-widgets/controls",
          "model_name": "DescriptionStyleModel",
          "model_module_version": "1.5.0",
          "state": {
            "_model_module": "@jupyter-widgets/controls",
            "_model_module_version": "1.5.0",
            "_model_name": "DescriptionStyleModel",
            "_view_count": null,
            "_view_module": "@jupyter-widgets/base",
            "_view_module_version": "1.2.0",
            "_view_name": "StyleView",
            "description_width": ""
          }
        },
        "c9a9b2df22d0465a8eb1d24b9fa2fd2e": {
          "model_module": "@jupyter-widgets/base",
          "model_name": "LayoutModel",
          "model_module_version": "1.2.0",
          "state": {
            "_model_module": "@jupyter-widgets/base",
            "_model_module_version": "1.2.0",
            "_model_name": "LayoutModel",
            "_view_count": null,
            "_view_module": "@jupyter-widgets/base",
            "_view_module_version": "1.2.0",
            "_view_name": "LayoutView",
            "align_content": null,
            "align_items": null,
            "align_self": null,
            "border": null,
            "bottom": null,
            "display": null,
            "flex": null,
            "flex_flow": null,
            "grid_area": null,
            "grid_auto_columns": null,
            "grid_auto_flow": null,
            "grid_auto_rows": null,
            "grid_column": null,
            "grid_gap": null,
            "grid_row": null,
            "grid_template_areas": null,
            "grid_template_columns": null,
            "grid_template_rows": null,
            "height": null,
            "justify_content": null,
            "justify_items": null,
            "left": null,
            "margin": null,
            "max_height": null,
            "max_width": null,
            "min_height": null,
            "min_width": null,
            "object_fit": null,
            "object_position": null,
            "order": null,
            "overflow": null,
            "overflow_x": null,
            "overflow_y": null,
            "padding": null,
            "right": null,
            "top": null,
            "visibility": null,
            "width": null
          }
        },
        "85975a481a594ed8863129d74278e1a1": {
          "model_module": "@jupyter-widgets/controls",
          "model_name": "ButtonStyleModel",
          "model_module_version": "1.5.0",
          "state": {
            "_model_module": "@jupyter-widgets/controls",
            "_model_module_version": "1.5.0",
            "_model_name": "ButtonStyleModel",
            "_view_count": null,
            "_view_module": "@jupyter-widgets/base",
            "_view_module_version": "1.2.0",
            "_view_name": "StyleView",
            "button_color": null,
            "font_weight": ""
          }
        },
        "5ddc950cc70b453aa320c8212cf2ed29": {
          "model_module": "@jupyter-widgets/controls",
          "model_name": "TextModel",
          "model_module_version": "1.5.0",
          "state": {
            "_dom_classes": [],
            "_model_module": "@jupyter-widgets/controls",
            "_model_module_version": "1.5.0",
            "_model_name": "TextModel",
            "_view_count": null,
            "_view_module": "@jupyter-widgets/controls",
            "_view_module_version": "1.5.0",
            "_view_name": "TextView",
            "continuous_update": true,
            "description": "",
            "description_tooltip": null,
            "disabled": false,
            "layout": "IPY_MODEL_60d332621f54460e9ba54e76a4d2e2fc",
            "placeholder": "​",
            "style": "IPY_MODEL_d4222cef418c4c0e9817e4953d005dc4",
            "value": "should bye"
          }
        },
        "60d332621f54460e9ba54e76a4d2e2fc": {
          "model_module": "@jupyter-widgets/base",
          "model_name": "LayoutModel",
          "model_module_version": "1.2.0",
          "state": {
            "_model_module": "@jupyter-widgets/base",
            "_model_module_version": "1.2.0",
            "_model_name": "LayoutModel",
            "_view_count": null,
            "_view_module": "@jupyter-widgets/base",
            "_view_module_version": "1.2.0",
            "_view_name": "LayoutView",
            "align_content": null,
            "align_items": null,
            "align_self": null,
            "border": null,
            "bottom": null,
            "display": null,
            "flex": null,
            "flex_flow": null,
            "grid_area": null,
            "grid_auto_columns": null,
            "grid_auto_flow": null,
            "grid_auto_rows": null,
            "grid_column": null,
            "grid_gap": null,
            "grid_row": null,
            "grid_template_areas": null,
            "grid_template_columns": null,
            "grid_template_rows": null,
            "height": null,
            "justify_content": null,
            "justify_items": null,
            "left": null,
            "margin": null,
            "max_height": null,
            "max_width": null,
            "min_height": null,
            "min_width": null,
            "object_fit": null,
            "object_position": null,
            "order": null,
            "overflow": null,
            "overflow_x": null,
            "overflow_y": null,
            "padding": null,
            "right": null,
            "top": null,
            "visibility": null,
            "width": null
          }
        },
        "78fff3744a1e413dbd7ab35269cf5e2d": {
          "model_module": "@jupyter-widgets/controls",
          "model_name": "ButtonModel",
          "model_module_version": "1.5.0",
          "state": {
            "_dom_classes": [],
            "_model_module": "@jupyter-widgets/controls",
            "_model_module_version": "1.5.0",
            "_model_name": "ButtonModel",
            "_view_count": null,
            "_view_module": "@jupyter-widgets/controls",
            "_view_module_version": "1.5.0",
            "_view_name": "ButtonView",
            "button_style": "info",
            "description": "Find Rating",
            "disabled": false,
            "icon": "",
            "layout": "IPY_MODEL_9a2e458bf2be4d2abebb3c84f7cefc76",
            "style": "IPY_MODEL_6b5c678d30a44af28b7eeabc7533ebb5",
            "tooltip": ""
          }
        },
        "d4222cef418c4c0e9817e4953d005dc4": {
          "model_module": "@jupyter-widgets/controls",
          "model_name": "DescriptionStyleModel",
          "model_module_version": "1.5.0",
          "state": {
            "_model_module": "@jupyter-widgets/controls",
            "_model_module_version": "1.5.0",
            "_model_name": "DescriptionStyleModel",
            "_view_count": null,
            "_view_module": "@jupyter-widgets/base",
            "_view_module_version": "1.2.0",
            "_view_name": "StyleView",
            "description_width": ""
          }
        },
        "022cf2a7898f46168f2b5602268a4a29": {
          "model_module": "@jupyter-widgets/controls",
          "model_name": "TextModel",
          "model_module_version": "1.5.0",
          "state": {
            "_dom_classes": [],
            "_model_module": "@jupyter-widgets/controls",
            "_model_module_version": "1.5.0",
            "_model_name": "TextModel",
            "_view_count": null,
            "_view_module": "@jupyter-widgets/controls",
            "_view_module_version": "1.5.0",
            "_view_name": "TextView",
            "continuous_update": true,
            "description": "",
            "description_tooltip": null,
            "disabled": false,
            "layout": "IPY_MODEL_3a145d659a0240d6baad8e21681e256b",
            "placeholder": "​",
            "style": "IPY_MODEL_18ffed94f70b415d92f738293d4808f6",
            "value": "Good"
          }
        },
        "9a2e458bf2be4d2abebb3c84f7cefc76": {
          "model_module": "@jupyter-widgets/base",
          "model_name": "LayoutModel",
          "model_module_version": "1.2.0",
          "state": {
            "_model_module": "@jupyter-widgets/base",
            "_model_module_version": "1.2.0",
            "_model_name": "LayoutModel",
            "_view_count": null,
            "_view_module": "@jupyter-widgets/base",
            "_view_module_version": "1.2.0",
            "_view_name": "LayoutView",
            "align_content": null,
            "align_items": null,
            "align_self": null,
            "border": null,
            "bottom": null,
            "display": null,
            "flex": null,
            "flex_flow": null,
            "grid_area": null,
            "grid_auto_columns": null,
            "grid_auto_flow": null,
            "grid_auto_rows": null,
            "grid_column": null,
            "grid_gap": null,
            "grid_row": null,
            "grid_template_areas": null,
            "grid_template_columns": null,
            "grid_template_rows": null,
            "height": null,
            "justify_content": null,
            "justify_items": null,
            "left": null,
            "margin": null,
            "max_height": null,
            "max_width": null,
            "min_height": null,
            "min_width": null,
            "object_fit": null,
            "object_position": null,
            "order": null,
            "overflow": null,
            "overflow_x": null,
            "overflow_y": null,
            "padding": null,
            "right": null,
            "top": null,
            "visibility": null,
            "width": null
          }
        },
        "6b5c678d30a44af28b7eeabc7533ebb5": {
          "model_module": "@jupyter-widgets/controls",
          "model_name": "ButtonStyleModel",
          "model_module_version": "1.5.0",
          "state": {
            "_model_module": "@jupyter-widgets/controls",
            "_model_module_version": "1.5.0",
            "_model_name": "ButtonStyleModel",
            "_view_count": null,
            "_view_module": "@jupyter-widgets/base",
            "_view_module_version": "1.2.0",
            "_view_name": "StyleView",
            "button_color": null,
            "font_weight": ""
          }
        },
        "3a145d659a0240d6baad8e21681e256b": {
          "model_module": "@jupyter-widgets/base",
          "model_name": "LayoutModel",
          "model_module_version": "1.2.0",
          "state": {
            "_model_module": "@jupyter-widgets/base",
            "_model_module_version": "1.2.0",
            "_model_name": "LayoutModel",
            "_view_count": null,
            "_view_module": "@jupyter-widgets/base",
            "_view_module_version": "1.2.0",
            "_view_name": "LayoutView",
            "align_content": null,
            "align_items": null,
            "align_self": null,
            "border": null,
            "bottom": null,
            "display": null,
            "flex": null,
            "flex_flow": null,
            "grid_area": null,
            "grid_auto_columns": null,
            "grid_auto_flow": null,
            "grid_auto_rows": null,
            "grid_column": null,
            "grid_gap": null,
            "grid_row": null,
            "grid_template_areas": null,
            "grid_template_columns": null,
            "grid_template_rows": null,
            "height": null,
            "justify_content": null,
            "justify_items": null,
            "left": null,
            "margin": null,
            "max_height": null,
            "max_width": null,
            "min_height": null,
            "min_width": null,
            "object_fit": null,
            "object_position": null,
            "order": null,
            "overflow": null,
            "overflow_x": null,
            "overflow_y": null,
            "padding": null,
            "right": null,
            "top": null,
            "visibility": null,
            "width": null
          }
        },
        "18ffed94f70b415d92f738293d4808f6": {
          "model_module": "@jupyter-widgets/controls",
          "model_name": "DescriptionStyleModel",
          "model_module_version": "1.5.0",
          "state": {
            "_model_module": "@jupyter-widgets/controls",
            "_model_module_version": "1.5.0",
            "_model_name": "DescriptionStyleModel",
            "_view_count": null,
            "_view_module": "@jupyter-widgets/base",
            "_view_module_version": "1.2.0",
            "_view_name": "StyleView",
            "description_width": ""
          }
        },
        "dd856d7a473348ce9983c520c0c49907": {
          "model_module": "@jupyter-widgets/controls",
          "model_name": "FloatProgressModel",
          "model_module_version": "1.5.0",
          "state": {
            "_dom_classes": [],
            "_model_module": "@jupyter-widgets/controls",
            "_model_module_version": "1.5.0",
            "_model_name": "FloatProgressModel",
            "_view_count": null,
            "_view_module": "@jupyter-widgets/controls",
            "_view_module_version": "1.5.0",
            "_view_name": "ProgressView",
            "bar_style": "",
            "description": "Calculating",
            "description_tooltip": null,
            "layout": "IPY_MODEL_bd5c8e5418c645c8907da162cd307e97",
            "max": 100,
            "min": 0,
            "orientation": "horizontal",
            "style": "IPY_MODEL_d04f4ba84fdc48feb927535619681318",
            "value": 100
          }
        },
        "bd5c8e5418c645c8907da162cd307e97": {
          "model_module": "@jupyter-widgets/base",
          "model_name": "LayoutModel",
          "model_module_version": "1.2.0",
          "state": {
            "_model_module": "@jupyter-widgets/base",
            "_model_module_version": "1.2.0",
            "_model_name": "LayoutModel",
            "_view_count": null,
            "_view_module": "@jupyter-widgets/base",
            "_view_module_version": "1.2.0",
            "_view_name": "LayoutView",
            "align_content": null,
            "align_items": null,
            "align_self": null,
            "border": null,
            "bottom": null,
            "display": null,
            "flex": null,
            "flex_flow": null,
            "grid_area": null,
            "grid_auto_columns": null,
            "grid_auto_flow": null,
            "grid_auto_rows": null,
            "grid_column": null,
            "grid_gap": null,
            "grid_row": null,
            "grid_template_areas": null,
            "grid_template_columns": null,
            "grid_template_rows": null,
            "height": null,
            "justify_content": null,
            "justify_items": null,
            "left": null,
            "margin": null,
            "max_height": null,
            "max_width": null,
            "min_height": null,
            "min_width": null,
            "object_fit": null,
            "object_position": null,
            "order": null,
            "overflow": null,
            "overflow_x": null,
            "overflow_y": null,
            "padding": null,
            "right": null,
            "top": null,
            "visibility": null,
            "width": null
          }
        },
        "d04f4ba84fdc48feb927535619681318": {
          "model_module": "@jupyter-widgets/controls",
          "model_name": "ProgressStyleModel",
          "model_module_version": "1.5.0",
          "state": {
            "_model_module": "@jupyter-widgets/controls",
            "_model_module_version": "1.5.0",
            "_model_name": "ProgressStyleModel",
            "_view_count": null,
            "_view_module": "@jupyter-widgets/base",
            "_view_module_version": "1.2.0",
            "_view_name": "StyleView",
            "bar_color": null,
            "description_width": ""
          }
        },
        "101b67e4eb25406db08cc62c76cb3294": {
          "model_module": "@jupyter-widgets/controls",
          "model_name": "DropdownModel",
          "model_module_version": "1.5.0",
          "state": {
            "_dom_classes": [],
            "_model_module": "@jupyter-widgets/controls",
            "_model_module_version": "1.5.0",
            "_model_name": "DropdownModel",
            "_options_labels": [
              "Logistic Regression",
              "SVM",
              "Multinomial Naive Bayes",
              "Bernoulli Naive Bayes",
              "k-NN",
              "Ensemble",
              "Decision Tree"
            ],
            "_view_count": null,
            "_view_module": "@jupyter-widgets/controls",
            "_view_module_version": "1.5.0",
            "_view_name": "DropdownView",
            "description": "",
            "description_tooltip": null,
            "disabled": false,
            "index": 4,
            "layout": "IPY_MODEL_11e3a44f58964ef0be52db5661c30f1c",
            "style": "IPY_MODEL_0fe711affbbe49dbb40fbd353d4c48db"
          }
        },
        "11e3a44f58964ef0be52db5661c30f1c": {
          "model_module": "@jupyter-widgets/base",
          "model_name": "LayoutModel",
          "model_module_version": "1.2.0",
          "state": {
            "_model_module": "@jupyter-widgets/base",
            "_model_module_version": "1.2.0",
            "_model_name": "LayoutModel",
            "_view_count": null,
            "_view_module": "@jupyter-widgets/base",
            "_view_module_version": "1.2.0",
            "_view_name": "LayoutView",
            "align_content": null,
            "align_items": null,
            "align_self": null,
            "border": null,
            "bottom": null,
            "display": null,
            "flex": null,
            "flex_flow": null,
            "grid_area": null,
            "grid_auto_columns": null,
            "grid_auto_flow": null,
            "grid_auto_rows": null,
            "grid_column": null,
            "grid_gap": null,
            "grid_row": null,
            "grid_template_areas": null,
            "grid_template_columns": null,
            "grid_template_rows": null,
            "height": null,
            "justify_content": null,
            "justify_items": null,
            "left": null,
            "margin": null,
            "max_height": null,
            "max_width": null,
            "min_height": null,
            "min_width": null,
            "object_fit": null,
            "object_position": null,
            "order": null,
            "overflow": null,
            "overflow_x": null,
            "overflow_y": null,
            "padding": null,
            "right": null,
            "top": null,
            "visibility": null,
            "width": null
          }
        },
        "0fe711affbbe49dbb40fbd353d4c48db": {
          "model_module": "@jupyter-widgets/controls",
          "model_name": "DescriptionStyleModel",
          "model_module_version": "1.5.0",
          "state": {
            "_model_module": "@jupyter-widgets/controls",
            "_model_module_version": "1.5.0",
            "_model_name": "DescriptionStyleModel",
            "_view_count": null,
            "_view_module": "@jupyter-widgets/base",
            "_view_module_version": "1.2.0",
            "_view_name": "StyleView",
            "description_width": ""
          }
        },
        "e0305334a20e4e149524e3977b8d6b3d": {
          "model_module": "@jupyter-widgets/controls",
          "model_name": "RadioButtonsModel",
          "model_module_version": "1.5.0",
          "state": {
            "_dom_classes": [],
            "_model_module": "@jupyter-widgets/controls",
            "_model_module_version": "1.5.0",
            "_model_name": "RadioButtonsModel",
            "_options_labels": [
              "Accuracy",
              "ROC Curve",
              "Precision,Recall and F-Measure"
            ],
            "_view_count": null,
            "_view_module": "@jupyter-widgets/controls",
            "_view_module_version": "1.5.0",
            "_view_name": "RadioButtonsView",
            "description": "",
            "description_tooltip": null,
            "disabled": false,
            "index": 1,
            "layout": "IPY_MODEL_228fa16b124b445c81f22891f04efd8f",
            "style": "IPY_MODEL_3f65177f60cd43579126ed2746ef3058"
          }
        },
        "80764d25707e47c48b9c32cce3aea745": {
          "model_module": "@jupyter-widgets/controls",
          "model_name": "ButtonModel",
          "model_module_version": "1.5.0",
          "state": {
            "_dom_classes": [],
            "_model_module": "@jupyter-widgets/controls",
            "_model_module_version": "1.5.0",
            "_model_name": "ButtonModel",
            "_view_count": null,
            "_view_module": "@jupyter-widgets/controls",
            "_view_module_version": "1.5.0",
            "_view_name": "ButtonView",
            "button_style": "info",
            "description": "Submit",
            "disabled": false,
            "icon": "",
            "layout": "IPY_MODEL_b48d67b9e85c44a795329821b7fd0feb",
            "style": "IPY_MODEL_dfc829fd6b714ce2842e80429e059136",
            "tooltip": ""
          }
        },
        "228fa16b124b445c81f22891f04efd8f": {
          "model_module": "@jupyter-widgets/base",
          "model_name": "LayoutModel",
          "model_module_version": "1.2.0",
          "state": {
            "_model_module": "@jupyter-widgets/base",
            "_model_module_version": "1.2.0",
            "_model_name": "LayoutModel",
            "_view_count": null,
            "_view_module": "@jupyter-widgets/base",
            "_view_module_version": "1.2.0",
            "_view_name": "LayoutView",
            "align_content": null,
            "align_items": null,
            "align_self": null,
            "border": null,
            "bottom": null,
            "display": null,
            "flex": null,
            "flex_flow": null,
            "grid_area": null,
            "grid_auto_columns": null,
            "grid_auto_flow": null,
            "grid_auto_rows": null,
            "grid_column": null,
            "grid_gap": null,
            "grid_row": null,
            "grid_template_areas": null,
            "grid_template_columns": null,
            "grid_template_rows": null,
            "height": null,
            "justify_content": null,
            "justify_items": null,
            "left": null,
            "margin": null,
            "max_height": null,
            "max_width": null,
            "min_height": null,
            "min_width": null,
            "object_fit": null,
            "object_position": null,
            "order": null,
            "overflow": null,
            "overflow_x": null,
            "overflow_y": null,
            "padding": null,
            "right": null,
            "top": null,
            "visibility": null,
            "width": null
          }
        },
        "3f65177f60cd43579126ed2746ef3058": {
          "model_module": "@jupyter-widgets/controls",
          "model_name": "DescriptionStyleModel",
          "model_module_version": "1.5.0",
          "state": {
            "_model_module": "@jupyter-widgets/controls",
            "_model_module_version": "1.5.0",
            "_model_name": "DescriptionStyleModel",
            "_view_count": null,
            "_view_module": "@jupyter-widgets/base",
            "_view_module_version": "1.2.0",
            "_view_name": "StyleView",
            "description_width": ""
          }
        },
        "b48d67b9e85c44a795329821b7fd0feb": {
          "model_module": "@jupyter-widgets/base",
          "model_name": "LayoutModel",
          "model_module_version": "1.2.0",
          "state": {
            "_model_module": "@jupyter-widgets/base",
            "_model_module_version": "1.2.0",
            "_model_name": "LayoutModel",
            "_view_count": null,
            "_view_module": "@jupyter-widgets/base",
            "_view_module_version": "1.2.0",
            "_view_name": "LayoutView",
            "align_content": null,
            "align_items": null,
            "align_self": null,
            "border": null,
            "bottom": null,
            "display": null,
            "flex": null,
            "flex_flow": null,
            "grid_area": null,
            "grid_auto_columns": null,
            "grid_auto_flow": null,
            "grid_auto_rows": null,
            "grid_column": null,
            "grid_gap": null,
            "grid_row": null,
            "grid_template_areas": null,
            "grid_template_columns": null,
            "grid_template_rows": null,
            "height": null,
            "justify_content": null,
            "justify_items": null,
            "left": null,
            "margin": null,
            "max_height": null,
            "max_width": null,
            "min_height": null,
            "min_width": null,
            "object_fit": null,
            "object_position": null,
            "order": null,
            "overflow": null,
            "overflow_x": null,
            "overflow_y": null,
            "padding": null,
            "right": null,
            "top": null,
            "visibility": null,
            "width": null
          }
        },
        "dfc829fd6b714ce2842e80429e059136": {
          "model_module": "@jupyter-widgets/controls",
          "model_name": "ButtonStyleModel",
          "model_module_version": "1.5.0",
          "state": {
            "_model_module": "@jupyter-widgets/controls",
            "_model_module_version": "1.5.0",
            "_model_name": "ButtonStyleModel",
            "_view_count": null,
            "_view_module": "@jupyter-widgets/base",
            "_view_module_version": "1.2.0",
            "_view_name": "StyleView",
            "button_color": null,
            "font_weight": ""
          }
        }
      }
    }
  },
  "nbformat": 4,
  "nbformat_minor": 0
}